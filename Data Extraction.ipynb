{
 "cells": [
  {
   "cell_type": "code",
   "execution_count": null,
   "id": "1da5188a",
   "metadata": {},
   "outputs": [],
   "source": [
    "from ucimlrepo import fetch_ucirepo\n",
    "import os\n",
    "\n",
    "# where to save datasets\n",
    "output_path = '/Users/shahrokh/Desktop/Capstone Project/uci_datasets'\n",
    "\n",
    "# incase if the path exists,if no it is going to create one\n",
    "os.makedirs(output_path, exist_ok=True)\n",
    "\n",
    "# number of datasets that required to be extract\n",
    "target_datasets = 500\n",
    "downloaded_datasets = 0\n",
    "\n",
    "# making a loop and give it ID of every dataset in UCI\n",
    "for dataset_id in range(0, 6000):\n",
    "    try:\n",
    "        dataset = fetch_ucirepo(id=dataset_id)\n",
    "        csv_filename = f\"{output_path}/dataset_{dataset_id}.csv\"\n",
    "        dataset.data.features.to_csv(csv_filename, index=False)\n",
    "        downloaded_datasets += 1\n",
    "        print(f\"Dataset {dataset_id} downloaded and saved to {csv_filename}\")\n",
    "\n",
    "        # check if we achieved the number of datasets that we wanted to extract (x=500)\n",
    "        if downloaded_datasets == target_datasets:\n",
    "            print(f\"Downloaded {target_datasets} datasets. Exiting.\")\n",
    "            break\n",
    "    except Exception as e:\n",
    "        print(f\"Error downloading dataset {dataset_id}: {e}\")\n",
    "        continue  # Continue with the next dataset even if there's an error\n",
    "\n",
    "print(f\"Total datasets downloaded: {downloaded_datasets}\")\n"
   ]
  }
 ],
 "metadata": {
  "kernelspec": {
   "display_name": "Python 3 (ipykernel)",
   "language": "python",
   "name": "python3"
  },
  "language_info": {
   "codemirror_mode": {
    "name": "ipython",
    "version": 3
   },
   "file_extension": ".py",
   "mimetype": "text/x-python",
   "name": "python",
   "nbconvert_exporter": "python",
   "pygments_lexer": "ipython3",
   "version": "3.9.12"
  }
 },
 "nbformat": 4,
 "nbformat_minor": 5
}
